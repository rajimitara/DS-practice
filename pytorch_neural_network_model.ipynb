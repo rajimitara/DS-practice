{
  "nbformat": 4,
  "nbformat_minor": 0,
  "metadata": {
    "colab": {
      "name": "pytorch-neural-network-model.ipynb",
      "provenance": [],
      "authorship_tag": "ABX9TyMcbOcr50DHyuf1qAGygMvt",
      "include_colab_link": true
    },
    "kernelspec": {
      "name": "python3",
      "display_name": "Python 3"
    },
    "language_info": {
      "name": "python"
    }
  },
  "cells": [
    {
      "cell_type": "markdown",
      "metadata": {
        "id": "view-in-github",
        "colab_type": "text"
      },
      "source": [
        "<a href=\"https://colab.research.google.com/github/rajimitara/DS-practice/blob/master/pytorch_neural_network_model.ipynb\" target=\"_parent\"><img src=\"https://colab.research.google.com/assets/colab-badge.svg\" alt=\"Open In Colab\"/></a>"
      ]
    },
    {
      "cell_type": "code",
      "execution_count": 1,
      "metadata": {
        "id": "Xjnfhb-UbtzL"
      },
      "outputs": [],
      "source": [
        "import torch\n",
        "import torch.nn as nn\n",
        "from torch.nn import functional as F\n",
        "\n",
        "import pandas as pd\n",
        "import numpy as np"
      ]
    },
    {
      "cell_type": "code",
      "source": [
        "dataset = pd.read_csv('https://raw.githubusercontent.com/rajimitara/buildModel-and-Mlflow/main/data_training.csv')\n"
      ],
      "metadata": {
        "id": "mC6mURxCbv0w"
      },
      "execution_count": 2,
      "outputs": []
    },
    {
      "cell_type": "code",
      "source": [
        "dataset.tail()\n"
      ],
      "metadata": {
        "colab": {
          "base_uri": "https://localhost:8080/",
          "height": 270
        },
        "id": "l_k_QqMGb4db",
        "outputId": "53a2ad5a-d04e-44f4-ae3c-f246ab2e4434"
      },
      "execution_count": 3,
      "outputs": [
        {
          "output_type": "execute_result",
          "data": {
            "text/html": [
              "\n",
              "  <div id=\"df-ad12f71b-8c9f-4958-9e03-07b6355222ac\">\n",
              "    <div class=\"colab-df-container\">\n",
              "      <div>\n",
              "<style scoped>\n",
              "    .dataframe tbody tr th:only-of-type {\n",
              "        vertical-align: middle;\n",
              "    }\n",
              "\n",
              "    .dataframe tbody tr th {\n",
              "        vertical-align: top;\n",
              "    }\n",
              "\n",
              "    .dataframe thead th {\n",
              "        text-align: right;\n",
              "    }\n",
              "</style>\n",
              "<table border=\"1\" class=\"dataframe\">\n",
              "  <thead>\n",
              "    <tr style=\"text-align: right;\">\n",
              "      <th></th>\n",
              "      <th>id_customer</th>\n",
              "      <th>default</th>\n",
              "      <th>age_customer</th>\n",
              "      <th>age_credit</th>\n",
              "      <th>mortgage</th>\n",
              "      <th>student_debt</th>\n",
              "      <th>n_customer_service_contacts</th>\n",
              "      <th>duration_customer_service</th>\n",
              "      <th>n_transactions_last_month</th>\n",
              "      <th>volume_last_month</th>\n",
              "    </tr>\n",
              "  </thead>\n",
              "  <tbody>\n",
              "    <tr>\n",
              "      <th>7495</th>\n",
              "      <td>7511</td>\n",
              "      <td>0</td>\n",
              "      <td>88</td>\n",
              "      <td>45</td>\n",
              "      <td>1</td>\n",
              "      <td>0</td>\n",
              "      <td>2</td>\n",
              "      <td>1.128633</td>\n",
              "      <td>10</td>\n",
              "      <td>38.889220</td>\n",
              "    </tr>\n",
              "    <tr>\n",
              "      <th>7496</th>\n",
              "      <td>7512</td>\n",
              "      <td>0</td>\n",
              "      <td>40</td>\n",
              "      <td>136</td>\n",
              "      <td>1</td>\n",
              "      <td>0</td>\n",
              "      <td>2</td>\n",
              "      <td>4.115939</td>\n",
              "      <td>4</td>\n",
              "      <td>1.109195</td>\n",
              "    </tr>\n",
              "    <tr>\n",
              "      <th>7497</th>\n",
              "      <td>7513</td>\n",
              "      <td>0</td>\n",
              "      <td>19</td>\n",
              "      <td>108</td>\n",
              "      <td>1</td>\n",
              "      <td>0</td>\n",
              "      <td>5</td>\n",
              "      <td>3.974465</td>\n",
              "      <td>12</td>\n",
              "      <td>0.468105</td>\n",
              "    </tr>\n",
              "    <tr>\n",
              "      <th>7498</th>\n",
              "      <td>7514</td>\n",
              "      <td>0</td>\n",
              "      <td>50</td>\n",
              "      <td>145</td>\n",
              "      <td>1</td>\n",
              "      <td>0</td>\n",
              "      <td>3</td>\n",
              "      <td>0.037722</td>\n",
              "      <td>18</td>\n",
              "      <td>5.043224</td>\n",
              "    </tr>\n",
              "    <tr>\n",
              "      <th>7499</th>\n",
              "      <td>7516</td>\n",
              "      <td>0</td>\n",
              "      <td>44</td>\n",
              "      <td>194</td>\n",
              "      <td>0</td>\n",
              "      <td>0</td>\n",
              "      <td>1</td>\n",
              "      <td>16.619939</td>\n",
              "      <td>13</td>\n",
              "      <td>0.045109</td>\n",
              "    </tr>\n",
              "  </tbody>\n",
              "</table>\n",
              "</div>\n",
              "      <button class=\"colab-df-convert\" onclick=\"convertToInteractive('df-ad12f71b-8c9f-4958-9e03-07b6355222ac')\"\n",
              "              title=\"Convert this dataframe to an interactive table.\"\n",
              "              style=\"display:none;\">\n",
              "        \n",
              "  <svg xmlns=\"http://www.w3.org/2000/svg\" height=\"24px\"viewBox=\"0 0 24 24\"\n",
              "       width=\"24px\">\n",
              "    <path d=\"M0 0h24v24H0V0z\" fill=\"none\"/>\n",
              "    <path d=\"M18.56 5.44l.94 2.06.94-2.06 2.06-.94-2.06-.94-.94-2.06-.94 2.06-2.06.94zm-11 1L8.5 8.5l.94-2.06 2.06-.94-2.06-.94L8.5 2.5l-.94 2.06-2.06.94zm10 10l.94 2.06.94-2.06 2.06-.94-2.06-.94-.94-2.06-.94 2.06-2.06.94z\"/><path d=\"M17.41 7.96l-1.37-1.37c-.4-.4-.92-.59-1.43-.59-.52 0-1.04.2-1.43.59L10.3 9.45l-7.72 7.72c-.78.78-.78 2.05 0 2.83L4 21.41c.39.39.9.59 1.41.59.51 0 1.02-.2 1.41-.59l7.78-7.78 2.81-2.81c.8-.78.8-2.07 0-2.86zM5.41 20L4 18.59l7.72-7.72 1.47 1.35L5.41 20z\"/>\n",
              "  </svg>\n",
              "      </button>\n",
              "      \n",
              "  <style>\n",
              "    .colab-df-container {\n",
              "      display:flex;\n",
              "      flex-wrap:wrap;\n",
              "      gap: 12px;\n",
              "    }\n",
              "\n",
              "    .colab-df-convert {\n",
              "      background-color: #E8F0FE;\n",
              "      border: none;\n",
              "      border-radius: 50%;\n",
              "      cursor: pointer;\n",
              "      display: none;\n",
              "      fill: #1967D2;\n",
              "      height: 32px;\n",
              "      padding: 0 0 0 0;\n",
              "      width: 32px;\n",
              "    }\n",
              "\n",
              "    .colab-df-convert:hover {\n",
              "      background-color: #E2EBFA;\n",
              "      box-shadow: 0px 1px 2px rgba(60, 64, 67, 0.3), 0px 1px 3px 1px rgba(60, 64, 67, 0.15);\n",
              "      fill: #174EA6;\n",
              "    }\n",
              "\n",
              "    [theme=dark] .colab-df-convert {\n",
              "      background-color: #3B4455;\n",
              "      fill: #D2E3FC;\n",
              "    }\n",
              "\n",
              "    [theme=dark] .colab-df-convert:hover {\n",
              "      background-color: #434B5C;\n",
              "      box-shadow: 0px 1px 3px 1px rgba(0, 0, 0, 0.15);\n",
              "      filter: drop-shadow(0px 1px 2px rgba(0, 0, 0, 0.3));\n",
              "      fill: #FFFFFF;\n",
              "    }\n",
              "  </style>\n",
              "\n",
              "      <script>\n",
              "        const buttonEl =\n",
              "          document.querySelector('#df-ad12f71b-8c9f-4958-9e03-07b6355222ac button.colab-df-convert');\n",
              "        buttonEl.style.display =\n",
              "          google.colab.kernel.accessAllowed ? 'block' : 'none';\n",
              "\n",
              "        async function convertToInteractive(key) {\n",
              "          const element = document.querySelector('#df-ad12f71b-8c9f-4958-9e03-07b6355222ac');\n",
              "          const dataTable =\n",
              "            await google.colab.kernel.invokeFunction('convertToInteractive',\n",
              "                                                     [key], {});\n",
              "          if (!dataTable) return;\n",
              "\n",
              "          const docLinkHtml = 'Like what you see? Visit the ' +\n",
              "            '<a target=\"_blank\" href=https://colab.research.google.com/notebooks/data_table.ipynb>data table notebook</a>'\n",
              "            + ' to learn more about interactive tables.';\n",
              "          element.innerHTML = '';\n",
              "          dataTable['output_type'] = 'display_data';\n",
              "          await google.colab.output.renderOutput(dataTable, element);\n",
              "          const docLink = document.createElement('div');\n",
              "          docLink.innerHTML = docLinkHtml;\n",
              "          element.appendChild(docLink);\n",
              "        }\n",
              "      </script>\n",
              "    </div>\n",
              "  </div>\n",
              "  "
            ],
            "text/plain": [
              "      id_customer  default  ...  n_transactions_last_month  volume_last_month\n",
              "7495         7511        0  ...                         10          38.889220\n",
              "7496         7512        0  ...                          4           1.109195\n",
              "7497         7513        0  ...                         12           0.468105\n",
              "7498         7514        0  ...                         18           5.043224\n",
              "7499         7516        0  ...                         13           0.045109\n",
              "\n",
              "[5 rows x 10 columns]"
            ]
          },
          "metadata": {},
          "execution_count": 3
        }
      ]
    },
    {
      "cell_type": "code",
      "source": [
        "dataset.describe()"
      ],
      "metadata": {
        "colab": {
          "base_uri": "https://localhost:8080/",
          "height": 364
        },
        "id": "OS05ktg4b8YD",
        "outputId": "411aba0a-3858-40ff-fe93-3352e21914f6"
      },
      "execution_count": 4,
      "outputs": [
        {
          "output_type": "execute_result",
          "data": {
            "text/html": [
              "\n",
              "  <div id=\"df-7f6e3655-ba5f-4fcc-aba2-b68eacd3e152\">\n",
              "    <div class=\"colab-df-container\">\n",
              "      <div>\n",
              "<style scoped>\n",
              "    .dataframe tbody tr th:only-of-type {\n",
              "        vertical-align: middle;\n",
              "    }\n",
              "\n",
              "    .dataframe tbody tr th {\n",
              "        vertical-align: top;\n",
              "    }\n",
              "\n",
              "    .dataframe thead th {\n",
              "        text-align: right;\n",
              "    }\n",
              "</style>\n",
              "<table border=\"1\" class=\"dataframe\">\n",
              "  <thead>\n",
              "    <tr style=\"text-align: right;\">\n",
              "      <th></th>\n",
              "      <th>id_customer</th>\n",
              "      <th>default</th>\n",
              "      <th>age_customer</th>\n",
              "      <th>age_credit</th>\n",
              "      <th>mortgage</th>\n",
              "      <th>student_debt</th>\n",
              "      <th>n_customer_service_contacts</th>\n",
              "      <th>duration_customer_service</th>\n",
              "      <th>n_transactions_last_month</th>\n",
              "      <th>volume_last_month</th>\n",
              "    </tr>\n",
              "  </thead>\n",
              "  <tbody>\n",
              "    <tr>\n",
              "      <th>count</th>\n",
              "      <td>7500.000000</td>\n",
              "      <td>7500.00000</td>\n",
              "      <td>7500.000000</td>\n",
              "      <td>7500.000000</td>\n",
              "      <td>7500.000000</td>\n",
              "      <td>7500.000000</td>\n",
              "      <td>7500.000000</td>\n",
              "      <td>7500.000000</td>\n",
              "      <td>7500.000000</td>\n",
              "      <td>7500.000000</td>\n",
              "    </tr>\n",
              "    <tr>\n",
              "      <th>mean</th>\n",
              "      <td>3749.702933</td>\n",
              "      <td>0.10000</td>\n",
              "      <td>57.921600</td>\n",
              "      <td>120.365200</td>\n",
              "      <td>0.504000</td>\n",
              "      <td>0.199067</td>\n",
              "      <td>2.010933</td>\n",
              "      <td>19.930646</td>\n",
              "      <td>10.025867</td>\n",
              "      <td>72.122778</td>\n",
              "    </tr>\n",
              "    <tr>\n",
              "      <th>std</th>\n",
              "      <td>2165.554161</td>\n",
              "      <td>0.30002</td>\n",
              "      <td>23.614559</td>\n",
              "      <td>69.876229</td>\n",
              "      <td>0.500017</td>\n",
              "      <td>0.399325</td>\n",
              "      <td>1.427872</td>\n",
              "      <td>19.797747</td>\n",
              "      <td>3.161708</td>\n",
              "      <td>713.412589</td>\n",
              "    </tr>\n",
              "    <tr>\n",
              "      <th>min</th>\n",
              "      <td>0.000000</td>\n",
              "      <td>0.00000</td>\n",
              "      <td>18.000000</td>\n",
              "      <td>1.000000</td>\n",
              "      <td>0.000000</td>\n",
              "      <td>0.000000</td>\n",
              "      <td>0.000000</td>\n",
              "      <td>0.002503</td>\n",
              "      <td>0.000000</td>\n",
              "      <td>0.000000</td>\n",
              "    </tr>\n",
              "    <tr>\n",
              "      <th>25%</th>\n",
              "      <td>1874.750000</td>\n",
              "      <td>0.00000</td>\n",
              "      <td>38.000000</td>\n",
              "      <td>58.000000</td>\n",
              "      <td>0.000000</td>\n",
              "      <td>0.000000</td>\n",
              "      <td>1.000000</td>\n",
              "      <td>5.792223</td>\n",
              "      <td>8.000000</td>\n",
              "      <td>0.349632</td>\n",
              "    </tr>\n",
              "    <tr>\n",
              "      <th>50%</th>\n",
              "      <td>3749.500000</td>\n",
              "      <td>0.00000</td>\n",
              "      <td>57.000000</td>\n",
              "      <td>121.000000</td>\n",
              "      <td>1.000000</td>\n",
              "      <td>0.000000</td>\n",
              "      <td>2.000000</td>\n",
              "      <td>13.780844</td>\n",
              "      <td>10.000000</td>\n",
              "      <td>2.031870</td>\n",
              "    </tr>\n",
              "    <tr>\n",
              "      <th>75%</th>\n",
              "      <td>5624.250000</td>\n",
              "      <td>0.00000</td>\n",
              "      <td>78.000000</td>\n",
              "      <td>182.000000</td>\n",
              "      <td>1.000000</td>\n",
              "      <td>0.000000</td>\n",
              "      <td>3.000000</td>\n",
              "      <td>27.348344</td>\n",
              "      <td>12.000000</td>\n",
              "      <td>12.590326</td>\n",
              "    </tr>\n",
              "    <tr>\n",
              "      <th>max</th>\n",
              "      <td>7516.000000</td>\n",
              "      <td>1.00000</td>\n",
              "      <td>99.000000</td>\n",
              "      <td>239.000000</td>\n",
              "      <td>1.000000</td>\n",
              "      <td>1.000000</td>\n",
              "      <td>9.000000</td>\n",
              "      <td>169.031734</td>\n",
              "      <td>24.000000</td>\n",
              "      <td>36103.995498</td>\n",
              "    </tr>\n",
              "  </tbody>\n",
              "</table>\n",
              "</div>\n",
              "      <button class=\"colab-df-convert\" onclick=\"convertToInteractive('df-7f6e3655-ba5f-4fcc-aba2-b68eacd3e152')\"\n",
              "              title=\"Convert this dataframe to an interactive table.\"\n",
              "              style=\"display:none;\">\n",
              "        \n",
              "  <svg xmlns=\"http://www.w3.org/2000/svg\" height=\"24px\"viewBox=\"0 0 24 24\"\n",
              "       width=\"24px\">\n",
              "    <path d=\"M0 0h24v24H0V0z\" fill=\"none\"/>\n",
              "    <path d=\"M18.56 5.44l.94 2.06.94-2.06 2.06-.94-2.06-.94-.94-2.06-.94 2.06-2.06.94zm-11 1L8.5 8.5l.94-2.06 2.06-.94-2.06-.94L8.5 2.5l-.94 2.06-2.06.94zm10 10l.94 2.06.94-2.06 2.06-.94-2.06-.94-.94-2.06-.94 2.06-2.06.94z\"/><path d=\"M17.41 7.96l-1.37-1.37c-.4-.4-.92-.59-1.43-.59-.52 0-1.04.2-1.43.59L10.3 9.45l-7.72 7.72c-.78.78-.78 2.05 0 2.83L4 21.41c.39.39.9.59 1.41.59.51 0 1.02-.2 1.41-.59l7.78-7.78 2.81-2.81c.8-.78.8-2.07 0-2.86zM5.41 20L4 18.59l7.72-7.72 1.47 1.35L5.41 20z\"/>\n",
              "  </svg>\n",
              "      </button>\n",
              "      \n",
              "  <style>\n",
              "    .colab-df-container {\n",
              "      display:flex;\n",
              "      flex-wrap:wrap;\n",
              "      gap: 12px;\n",
              "    }\n",
              "\n",
              "    .colab-df-convert {\n",
              "      background-color: #E8F0FE;\n",
              "      border: none;\n",
              "      border-radius: 50%;\n",
              "      cursor: pointer;\n",
              "      display: none;\n",
              "      fill: #1967D2;\n",
              "      height: 32px;\n",
              "      padding: 0 0 0 0;\n",
              "      width: 32px;\n",
              "    }\n",
              "\n",
              "    .colab-df-convert:hover {\n",
              "      background-color: #E2EBFA;\n",
              "      box-shadow: 0px 1px 2px rgba(60, 64, 67, 0.3), 0px 1px 3px 1px rgba(60, 64, 67, 0.15);\n",
              "      fill: #174EA6;\n",
              "    }\n",
              "\n",
              "    [theme=dark] .colab-df-convert {\n",
              "      background-color: #3B4455;\n",
              "      fill: #D2E3FC;\n",
              "    }\n",
              "\n",
              "    [theme=dark] .colab-df-convert:hover {\n",
              "      background-color: #434B5C;\n",
              "      box-shadow: 0px 1px 3px 1px rgba(0, 0, 0, 0.15);\n",
              "      filter: drop-shadow(0px 1px 2px rgba(0, 0, 0, 0.3));\n",
              "      fill: #FFFFFF;\n",
              "    }\n",
              "  </style>\n",
              "\n",
              "      <script>\n",
              "        const buttonEl =\n",
              "          document.querySelector('#df-7f6e3655-ba5f-4fcc-aba2-b68eacd3e152 button.colab-df-convert');\n",
              "        buttonEl.style.display =\n",
              "          google.colab.kernel.accessAllowed ? 'block' : 'none';\n",
              "\n",
              "        async function convertToInteractive(key) {\n",
              "          const element = document.querySelector('#df-7f6e3655-ba5f-4fcc-aba2-b68eacd3e152');\n",
              "          const dataTable =\n",
              "            await google.colab.kernel.invokeFunction('convertToInteractive',\n",
              "                                                     [key], {});\n",
              "          if (!dataTable) return;\n",
              "\n",
              "          const docLinkHtml = 'Like what you see? Visit the ' +\n",
              "            '<a target=\"_blank\" href=https://colab.research.google.com/notebooks/data_table.ipynb>data table notebook</a>'\n",
              "            + ' to learn more about interactive tables.';\n",
              "          element.innerHTML = '';\n",
              "          dataTable['output_type'] = 'display_data';\n",
              "          await google.colab.output.renderOutput(dataTable, element);\n",
              "          const docLink = document.createElement('div');\n",
              "          docLink.innerHTML = docLinkHtml;\n",
              "          element.appendChild(docLink);\n",
              "        }\n",
              "      </script>\n",
              "    </div>\n",
              "  </div>\n",
              "  "
            ],
            "text/plain": [
              "       id_customer     default  ...  n_transactions_last_month  volume_last_month\n",
              "count  7500.000000  7500.00000  ...                7500.000000        7500.000000\n",
              "mean   3749.702933     0.10000  ...                  10.025867          72.122778\n",
              "std    2165.554161     0.30002  ...                   3.161708         713.412589\n",
              "min       0.000000     0.00000  ...                   0.000000           0.000000\n",
              "25%    1874.750000     0.00000  ...                   8.000000           0.349632\n",
              "50%    3749.500000     0.00000  ...                  10.000000           2.031870\n",
              "75%    5624.250000     0.00000  ...                  12.000000          12.590326\n",
              "max    7516.000000     1.00000  ...                  24.000000       36103.995498\n",
              "\n",
              "[8 rows x 10 columns]"
            ]
          },
          "metadata": {},
          "execution_count": 4
        }
      ]
    },
    {
      "cell_type": "code",
      "source": [
        "X = dataset.iloc[:, 2:].values\n",
        "y = dataset.iloc[:,1].values"
      ],
      "metadata": {
        "id": "7Oqd5O0Ab4Se"
      },
      "execution_count": 5,
      "outputs": []
    },
    {
      "cell_type": "code",
      "source": [
        "from sklearn.model_selection import train_test_split\n",
        "X_train, X_test, y_train, y_test = train_test_split(X, y, test_size =.20,random_state=0)"
      ],
      "metadata": {
        "id": "jBbA0D0ZcA8M"
      },
      "execution_count": 6,
      "outputs": []
    },
    {
      "cell_type": "code",
      "source": [
        "from sklearn.preprocessing import StandardScaler\n",
        "sc = StandardScaler()\n",
        "X_train = sc.fit_transform(X_train)\n",
        "X_test = sc.transform(X_test)"
      ],
      "metadata": {
        "id": "rK0DvyBkcFvt"
      },
      "execution_count": 7,
      "outputs": []
    },
    {
      "cell_type": "code",
      "source": [
        "Xtrain_ = torch.from_numpy(X_train).float()\n",
        "Xtest_ = torch.from_numpy(X_test).float()"
      ],
      "metadata": {
        "id": "hM_U6wMwcJus"
      },
      "execution_count": 22,
      "outputs": []
    },
    {
      "cell_type": "code",
      "source": [
        "Xtrain_"
      ],
      "metadata": {
        "colab": {
          "base_uri": "https://localhost:8080/"
        },
        "id": "iV-5VPFJcUQu",
        "outputId": "d60368b7-251e-4d60-a803-16b740c949f1"
      },
      "execution_count": 23,
      "outputs": [
        {
          "output_type": "execute_result",
          "data": {
            "text/plain": [
              "tensor([[ 0.4631, -0.5743,  0.9904,  ..., -0.9907, -0.3294, -0.0603],\n",
              "        [ 1.1819, -0.4887, -1.0097,  ..., -0.7615, -0.3294, -0.1172],\n",
              "        [-1.1014, -0.5743, -1.0097,  ..., -0.4411, -0.9642, -0.1056],\n",
              "        ...,\n",
              "        [ 1.6048, -0.9169, -1.0097,  ...,  0.1280, -0.3294,  0.0137],\n",
              "        [ 1.6893, -1.5878,  0.9904,  ..., -0.9591,  3.1616, -0.1169],\n",
              "        [-0.4249, -0.1603, -1.0097,  ..., -0.2786, -1.2815, -0.1068]])"
            ]
          },
          "metadata": {},
          "execution_count": 23
        }
      ]
    },
    {
      "cell_type": "code",
      "source": [
        "ytrain_ = torch.from_numpy(y_train)\n",
        "ytest_ = torch.from_numpy(y_test)"
      ],
      "metadata": {
        "id": "84gtjdMJcY14"
      },
      "execution_count": 24,
      "outputs": []
    },
    {
      "cell_type": "code",
      "source": [
        "ytrain_"
      ],
      "metadata": {
        "colab": {
          "base_uri": "https://localhost:8080/"
        },
        "id": "7GJv6VQTchXD",
        "outputId": "4d17849e-75bc-46dd-cf32-79487b0ca380"
      },
      "execution_count": 25,
      "outputs": [
        {
          "output_type": "execute_result",
          "data": {
            "text/plain": [
              "tensor([0, 0, 0,  ..., 0, 0, 0])"
            ]
          },
          "metadata": {},
          "execution_count": 25
        }
      ]
    },
    {
      "cell_type": "code",
      "source": [
        "Xtrain_.shape, ytrain_.shape"
      ],
      "metadata": {
        "colab": {
          "base_uri": "https://localhost:8080/"
        },
        "id": "Yj2SQohDcjcN",
        "outputId": "c1b4ff61-1f0a-4fdd-d0be-a1b5f8e95054"
      },
      "execution_count": 26,
      "outputs": [
        {
          "output_type": "execute_result",
          "data": {
            "text/plain": [
              "(torch.Size([6000, 8]), torch.Size([6000]))"
            ]
          },
          "metadata": {},
          "execution_count": 26
        }
      ]
    },
    {
      "cell_type": "code",
      "source": [
        "Xtest_.shape, ytest_.shape"
      ],
      "metadata": {
        "colab": {
          "base_uri": "https://localhost:8080/"
        },
        "id": "8iK-18EXcpVa",
        "outputId": "258844b2-1abb-4e6a-a642-2959575a7eec"
      },
      "execution_count": 27,
      "outputs": [
        {
          "output_type": "execute_result",
          "data": {
            "text/plain": [
              "(torch.Size([1500, 8]), torch.Size([1500]))"
            ]
          },
          "metadata": {},
          "execution_count": 27
        }
      ]
    },
    {
      "cell_type": "code",
      "source": [
        "input_size=8\n",
        "output_size=2\n",
        "hidden_size=10"
      ],
      "metadata": {
        "id": "d5NyKjrHcsj5"
      },
      "execution_count": 42,
      "outputs": []
    },
    {
      "cell_type": "code",
      "source": [
        "class Net(nn.Module):\n",
        "   def __init__(self):\n",
        "       super(Net, self).__init__()\n",
        "       self.fc1 = torch.nn.Linear(input_size, hidden_size)\n",
        "       self.fc2 = torch.nn.Linear(hidden_size, hidden_size)\n",
        "       self.fc3 = torch.nn.Linear(hidden_size, output_size)\n",
        "\n",
        "\n",
        "   def forward(self, X):\n",
        "       X = torch.relu((self.fc1(X)))\n",
        "       X = torch.relu((self.fc2(X)))\n",
        "       X = self.fc3(X)\n",
        "\n",
        "       return F.log_softmax(X,dim=1)"
      ],
      "metadata": {
        "id": "Gybasix4cveK"
      },
      "execution_count": 43,
      "outputs": []
    },
    {
      "cell_type": "code",
      "source": [
        "model = Net()\n"
      ],
      "metadata": {
        "id": "H3kS5S87cy4i"
      },
      "execution_count": 44,
      "outputs": []
    },
    {
      "cell_type": "code",
      "source": [
        "import torch.optim as optim\n",
        "optimizer = torch.optim.Adam(model.parameters(), lr=0.01)\n",
        "loss_fn = nn.NLLLoss()"
      ],
      "metadata": {
        "id": "uBCX5_nMc1im"
      },
      "execution_count": 45,
      "outputs": []
    },
    {
      "cell_type": "code",
      "source": [
        "epochs = 100\n"
      ],
      "metadata": {
        "id": "oObyjuYic43_"
      },
      "execution_count": 46,
      "outputs": []
    },
    {
      "cell_type": "code",
      "source": [
        "for epoch in range(epochs):\n",
        "   optimizer.zero_grad()\n",
        "   Ypred = model(Xtrain_)\n",
        "   loss = loss_fn(Ypred,  ytrain_)\n",
        "   loss.backward()\n",
        "   optimizer.step()\n",
        "   print('Epoch',epoch, 'loss',loss.item())"
      ],
      "metadata": {
        "colab": {
          "base_uri": "https://localhost:8080/"
        },
        "id": "FHryhZczc7RM",
        "outputId": "edafcfb0-6a88-4e3c-d9ee-553d6bb5b90e"
      },
      "execution_count": 47,
      "outputs": [
        {
          "output_type": "stream",
          "name": "stdout",
          "text": [
            "Epoch 0 loss 0.7249419093132019\n",
            "Epoch 1 loss 0.6926116347312927\n",
            "Epoch 2 loss 0.6575697660446167\n",
            "Epoch 3 loss 0.6203613877296448\n",
            "Epoch 4 loss 0.581641435623169\n",
            "Epoch 5 loss 0.5422642230987549\n",
            "Epoch 6 loss 0.503386378288269\n",
            "Epoch 7 loss 0.4663829803466797\n",
            "Epoch 8 loss 0.4325757324695587\n",
            "Epoch 9 loss 0.40324822068214417\n",
            "Epoch 10 loss 0.379375696182251\n",
            "Epoch 11 loss 0.3615891933441162\n",
            "Epoch 12 loss 0.3497873842716217\n",
            "Epoch 13 loss 0.3432278633117676\n",
            "Epoch 14 loss 0.3406522274017334\n",
            "Epoch 15 loss 0.34038883447647095\n",
            "Epoch 16 loss 0.3408510684967041\n",
            "Epoch 17 loss 0.34084850549697876\n",
            "Epoch 18 loss 0.3396003544330597\n",
            "Epoch 19 loss 0.3368678092956543\n",
            "Epoch 20 loss 0.3327401876449585\n",
            "Epoch 21 loss 0.32756197452545166\n",
            "Epoch 22 loss 0.32175201177597046\n",
            "Epoch 23 loss 0.31571465730667114\n",
            "Epoch 24 loss 0.3099108636379242\n",
            "Epoch 25 loss 0.30464380979537964\n",
            "Epoch 26 loss 0.3001099228858948\n",
            "Epoch 27 loss 0.29639264941215515\n",
            "Epoch 28 loss 0.29351806640625\n",
            "Epoch 29 loss 0.2913835644721985\n",
            "Epoch 30 loss 0.2898145318031311\n",
            "Epoch 31 loss 0.28866323828697205\n",
            "Epoch 32 loss 0.28775471448898315\n",
            "Epoch 33 loss 0.28691521286964417\n",
            "Epoch 34 loss 0.28602686524391174\n",
            "Epoch 35 loss 0.2850040793418884\n",
            "Epoch 36 loss 0.2838117480278015\n",
            "Epoch 37 loss 0.28243836760520935\n",
            "Epoch 38 loss 0.28091102838516235\n",
            "Epoch 39 loss 0.27927011251449585\n",
            "Epoch 40 loss 0.27757546305656433\n",
            "Epoch 41 loss 0.2758826017379761\n",
            "Epoch 42 loss 0.2742505669593811\n",
            "Epoch 43 loss 0.27271464467048645\n",
            "Epoch 44 loss 0.27127915620803833\n",
            "Epoch 45 loss 0.26994648575782776\n",
            "Epoch 46 loss 0.2686879634857178\n",
            "Epoch 47 loss 0.2674753963947296\n",
            "Epoch 48 loss 0.26624661684036255\n",
            "Epoch 49 loss 0.26496580243110657\n",
            "Epoch 50 loss 0.263595849275589\n",
            "Epoch 51 loss 0.2621017396450043\n",
            "Epoch 52 loss 0.26048824191093445\n",
            "Epoch 53 loss 0.25875282287597656\n",
            "Epoch 54 loss 0.25688502192497253\n",
            "Epoch 55 loss 0.25489792227745056\n",
            "Epoch 56 loss 0.25283393263816833\n",
            "Epoch 57 loss 0.2506994307041168\n",
            "Epoch 58 loss 0.24849705398082733\n",
            "Epoch 59 loss 0.24623017013072968\n",
            "Epoch 60 loss 0.24389950931072235\n",
            "Epoch 61 loss 0.24148128926753998\n",
            "Epoch 62 loss 0.23895274102687836\n",
            "Epoch 63 loss 0.23629377782344818\n",
            "Epoch 64 loss 0.2335260808467865\n",
            "Epoch 65 loss 0.23063497245311737\n",
            "Epoch 66 loss 0.22761976718902588\n",
            "Epoch 67 loss 0.22454290091991425\n",
            "Epoch 68 loss 0.2214260846376419\n",
            "Epoch 69 loss 0.2182866781949997\n",
            "Epoch 70 loss 0.21510370075702667\n",
            "Epoch 71 loss 0.2118685245513916\n",
            "Epoch 72 loss 0.20853041112422943\n",
            "Epoch 73 loss 0.20508253574371338\n",
            "Epoch 74 loss 0.20152460038661957\n",
            "Epoch 75 loss 0.1979798972606659\n",
            "Epoch 76 loss 0.19437459111213684\n",
            "Epoch 77 loss 0.19076180458068848\n",
            "Epoch 78 loss 0.187138631939888\n",
            "Epoch 79 loss 0.18356670439243317\n",
            "Epoch 80 loss 0.18009763956069946\n",
            "Epoch 81 loss 0.17661325633525848\n",
            "Epoch 82 loss 0.17309381067752838\n",
            "Epoch 83 loss 0.16956809163093567\n",
            "Epoch 84 loss 0.16607601940631866\n",
            "Epoch 85 loss 0.1625806838274002\n",
            "Epoch 86 loss 0.1591280698776245\n",
            "Epoch 87 loss 0.15572038292884827\n",
            "Epoch 88 loss 0.1523934155702591\n",
            "Epoch 89 loss 0.149121955037117\n",
            "Epoch 90 loss 0.1458994299173355\n",
            "Epoch 91 loss 0.14273956418037415\n",
            "Epoch 92 loss 0.13966727256774902\n",
            "Epoch 93 loss 0.13669370114803314\n",
            "Epoch 94 loss 0.13378386199474335\n",
            "Epoch 95 loss 0.1309351772069931\n",
            "Epoch 96 loss 0.1281760185956955\n",
            "Epoch 97 loss 0.12554781138896942\n",
            "Epoch 98 loss 0.12304206192493439\n",
            "Epoch 99 loss 0.12066330015659332\n"
          ]
        }
      ]
    },
    {
      "cell_type": "code",
      "source": [
        "list(model.parameters())"
      ],
      "metadata": {
        "colab": {
          "base_uri": "https://localhost:8080/"
        },
        "id": "lmjdOixedlRl",
        "outputId": "3a234425-776d-4ec0-ebb5-6f444d862a98"
      },
      "execution_count": 48,
      "outputs": [
        {
          "output_type": "execute_result",
          "data": {
            "text/plain": [
              "[Parameter containing:\n",
              " tensor([[-4.7720e-02, -1.8021e-01,  2.3253e-02,  3.9389e-02,  3.7898e-02,\n",
              "          -8.0722e-02,  4.4313e-04, -1.5172e+00],\n",
              "         [-5.9666e-02,  4.6477e-02, -1.4066e-02, -7.7271e-02, -6.3147e-03,\n",
              "          -1.1119e-01,  3.0782e-02, -7.9491e-01],\n",
              "         [-8.0310e-02, -1.0845e-01, -6.6743e-03,  4.2425e-04, -2.7080e-02,\n",
              "          -4.1895e-02, -1.9653e-02, -9.8755e-01],\n",
              "         [-1.0126e-01, -1.9774e-01, -7.1519e-02,  1.7291e-01,  1.2950e-02,\n",
              "           1.4557e-02, -5.0437e-02, -6.0235e-01],\n",
              "         [ 3.0951e-01, -1.5368e-01,  1.0499e-01,  1.2032e-01,  1.7002e-01,\n",
              "          -1.6335e-01,  2.2171e-01, -4.5931e-01],\n",
              "         [-8.6656e-02, -5.0303e-01,  5.0244e-02,  3.0603e-01,  3.9032e-02,\n",
              "          -2.5225e-01,  1.6992e-02, -2.1472e-01],\n",
              "         [ 1.2138e-01, -6.3360e-02, -1.6369e-03, -1.0589e-01, -8.6412e-03,\n",
              "          -1.0383e-01, -1.7798e-03, -4.8876e-01],\n",
              "         [ 1.7019e-01, -8.0109e-02, -1.4375e-01, -2.3419e-01, -4.3312e-02,\n",
              "          -6.6273e-01, -3.0366e-02,  5.6802e-01],\n",
              "         [ 3.3296e-01, -3.6985e-01, -2.1350e-01, -1.6598e-01,  1.6232e-01,\n",
              "          -2.1162e-01, -3.4772e-01, -2.7251e-01],\n",
              "         [ 5.5438e-02,  4.6515e-02, -1.4901e-01, -1.8390e-01, -1.3331e-01,\n",
              "          -4.3900e-01,  2.3395e-02, -1.0816e+00]], requires_grad=True),\n",
              " Parameter containing:\n",
              " tensor([ 0.3995,  0.2217,  0.3101, -0.1489, -0.2622, -0.0060,  0.0893,  0.4891,\n",
              "         -0.0531,  0.1448], requires_grad=True),\n",
              " Parameter containing:\n",
              " tensor([[ 0.5021,  0.3831,  0.5329,  0.0104, -0.1270,  0.3259, -0.0253, -0.5359,\n",
              "           0.0748,  0.1080],\n",
              "         [ 1.1173,  0.4742,  0.6593,  0.3724,  0.0349, -0.3135,  0.5362, -0.4233,\n",
              "           0.1787,  0.6098],\n",
              "         [-0.4013, -0.2836,  0.1462, -0.1161,  0.1854, -0.0457,  0.2180, -0.1100,\n",
              "          -0.2864, -0.3721],\n",
              "         [ 0.3084,  0.1406,  0.3538,  0.4132,  0.3317,  0.0889,  0.4292, -0.3096,\n",
              "           0.2242,  0.0938],\n",
              "         [ 0.9844,  0.5085,  0.4015,  0.2318,  0.1038, -0.2577,  0.3488, -0.4206,\n",
              "           0.0405,  0.6687],\n",
              "         [ 0.6275,  0.3035,  0.5342, -0.0369,  0.2376, -0.2506,  0.0394, -0.5004,\n",
              "           0.2335,  0.6028],\n",
              "         [ 0.4669, -0.0796,  0.3419,  0.0221,  0.3240, -0.2523,  0.1088, -0.4240,\n",
              "          -0.0850,  0.4597],\n",
              "         [ 0.7313,  0.1108,  0.3682,  0.3329,  0.2203, -0.2355,  0.5607, -0.4533,\n",
              "           0.0101,  0.6171],\n",
              "         [ 0.5844,  0.0835,  0.4691,  0.1993,  0.1671,  0.2234,  0.3298, -0.4995,\n",
              "          -0.0638,  0.3558],\n",
              "         [ 0.4769, -0.0689,  0.3113,  0.4082, -0.0209, -0.2419,  0.2808, -0.3522,\n",
              "          -0.0704,  0.3097]], requires_grad=True),\n",
              " Parameter containing:\n",
              " tensor([ 0.2487, -0.1867, -0.2171, -0.0195, -0.1611,  0.0134,  0.1833, -0.0388,\n",
              "          0.1267,  0.1223], requires_grad=True),\n",
              " Parameter containing:\n",
              " tensor([[ 0.4145,  0.5426,  0.2869,  0.2174,  0.6819,  0.4695, -0.0156,  0.0841,\n",
              "           0.3234,  0.1847],\n",
              "         [-0.3808, -0.8909,  0.1471, -0.1195, -0.3740, -0.5565, -0.2519, -0.4785,\n",
              "          -0.0470, -0.2363]], requires_grad=True),\n",
              " Parameter containing:\n",
              " tensor([-0.1394, -0.0395], requires_grad=True)]"
            ]
          },
          "metadata": {},
          "execution_count": 48
        }
      ]
    },
    {
      "cell_type": "code",
      "source": [
        "torch.from_numpy(sc.transform(np.array([[99,154,0,1,3,61.10828509499128,19,108.12240555679085]]))).float()"
      ],
      "metadata": {
        "colab": {
          "base_uri": "https://localhost:8080/"
        },
        "id": "ddkFZR-Me2DY",
        "outputId": "1ab447a2-e6ae-4bfb-d559-ad2f91496545"
      },
      "execution_count": 49,
      "outputs": [
        {
          "output_type": "execute_result",
          "data": {
            "text/plain": [
              "tensor([[ 1.7316,  0.4821, -1.0097,  1.9907,  0.7074,  2.0874,  2.8443,  0.0790]])"
            ]
          },
          "metadata": {},
          "execution_count": 49
        }
      ]
    },
    {
      "cell_type": "code",
      "source": [
        "new_classifier_inference1 = model(torch.from_numpy(sc.transform(np.array([[99,154,0,1,3,61.10828509499128,19,108.12240555679085]]))).float())\n",
        "new_classifier_inference1"
      ],
      "metadata": {
        "colab": {
          "base_uri": "https://localhost:8080/"
        },
        "id": "sUFeusLPfA2c",
        "outputId": "33705dab-829a-430f-db71-0fb4c5c9e938"
      },
      "execution_count": 50,
      "outputs": [
        {
          "output_type": "execute_result",
          "data": {
            "text/plain": [
              "tensor([[-0.4250, -1.0607]], grad_fn=<LogSoftmaxBackward0>)"
            ]
          },
          "metadata": {},
          "execution_count": 50
        }
      ]
    },
    {
      "cell_type": "code",
      "source": [
        "_, predicted_20_40000 = torch.max(new_classifier_inference1.data,-1)\n",
        "predicted_20_40000"
      ],
      "metadata": {
        "colab": {
          "base_uri": "https://localhost:8080/"
        },
        "id": "jjyI7XKxfMva",
        "outputId": "30724742-e77a-4d4b-acb2-0eb938ff6855"
      },
      "execution_count": 51,
      "outputs": [
        {
          "output_type": "execute_result",
          "data": {
            "text/plain": [
              "tensor([0])"
            ]
          },
          "metadata": {},
          "execution_count": 51
        }
      ]
    },
    {
      "cell_type": "code",
      "source": [
        "new_classifier_training = model(torch.from_numpy(sc.transform(np.array([[98,97,1,0,1,4.832334122511638,7,282.97659001640096]]))).float())\n",
        "new_classifier_training"
      ],
      "metadata": {
        "colab": {
          "base_uri": "https://localhost:8080/"
        },
        "id": "UgqdRCM4fanv",
        "outputId": "e948afeb-66cb-43c8-c8a2-2de470f750c1"
      },
      "execution_count": 56,
      "outputs": [
        {
          "output_type": "execute_result",
          "data": {
            "text/plain": [
              "tensor([[-0.7443, -0.6445]], grad_fn=<LogSoftmaxBackward0>)"
            ]
          },
          "metadata": {},
          "execution_count": 56
        }
      ]
    },
    {
      "cell_type": "code",
      "source": [
        "_, predicted_training= torch.max(new_classifier_training.data,-1)\n",
        "predicted_training"
      ],
      "metadata": {
        "colab": {
          "base_uri": "https://localhost:8080/"
        },
        "id": "r6cKREbyfdpi",
        "outputId": "a074f2de-2d30-4f47-95a5-fbb53043dc2b"
      },
      "execution_count": 57,
      "outputs": [
        {
          "output_type": "execute_result",
          "data": {
            "text/plain": [
              "tensor([1])"
            ]
          },
          "metadata": {},
          "execution_count": 57
        }
      ]
    },
    {
      "cell_type": "code",
      "source": [
        "torch.save(model,'customer_buy.pt')"
      ],
      "metadata": {
        "id": "moG1Gb3aguYN"
      },
      "execution_count": 58,
      "outputs": []
    },
    {
      "cell_type": "code",
      "source": [
        "!ls"
      ],
      "metadata": {
        "colab": {
          "base_uri": "https://localhost:8080/"
        },
        "id": "uMbL0m2Mgvty",
        "outputId": "ab107d4c-31fb-48c5-b799-e9de0196e785"
      },
      "execution_count": 59,
      "outputs": [
        {
          "output_type": "stream",
          "name": "stdout",
          "text": [
            "customer_buy.pt  sample_data\n"
          ]
        }
      ]
    },
    {
      "cell_type": "code",
      "source": [
        "restored_model = torch.load('customer_buy.pt')"
      ],
      "metadata": {
        "id": "EGlRPj_6g2hy"
      },
      "execution_count": 60,
      "outputs": []
    },
    {
      "cell_type": "code",
      "source": [
        "y_cust_pred_0 = restored_model(torch.from_numpy(np.array([[98,97,1,0,1,4.832334122511638,7,282.97659001640096]])).float())\n",
        "y_cust_pred_0"
      ],
      "metadata": {
        "colab": {
          "base_uri": "https://localhost:8080/"
        },
        "id": "Bbreqatsg3rg",
        "outputId": "77a7527e-c22e-49a1-c305-31c85804a1b7"
      },
      "execution_count": 61,
      "outputs": [
        {
          "output_type": "execute_result",
          "data": {
            "text/plain": [
              "tensor([[-0.7443, -0.6445]], grad_fn=<LogSoftmaxBackward0>)"
            ]
          },
          "metadata": {},
          "execution_count": 61
        }
      ]
    },
    {
      "cell_type": "code",
      "source": [
        "_, predicted_y_cust_pred_0 = torch.max(y_cust_pred_0.data,-1)\n",
        "predicted_y_cust_pred_0"
      ],
      "metadata": {
        "colab": {
          "base_uri": "https://localhost:8080/"
        },
        "id": "fvSbmZTJh-ke",
        "outputId": "89cb3ca4-1cb0-49b2-f5e1-80bab179b9cc"
      },
      "execution_count": 62,
      "outputs": [
        {
          "output_type": "execute_result",
          "data": {
            "text/plain": [
              "tensor([1])"
            ]
          },
          "metadata": {},
          "execution_count": 62
        }
      ]
    },
    {
      "cell_type": "code",
      "source": [
        "model.state_dict()"
      ],
      "metadata": {
        "colab": {
          "base_uri": "https://localhost:8080/"
        },
        "id": "q1FioxwiiG1a",
        "outputId": "1ac2b80d-77d1-4c12-8a4a-3abbadc3bd46"
      },
      "execution_count": 63,
      "outputs": [
        {
          "output_type": "execute_result",
          "data": {
            "text/plain": [
              "OrderedDict([('fc1.weight',\n",
              "              tensor([[-4.7720e-02, -1.8021e-01,  2.3253e-02,  3.9389e-02,  3.7898e-02,\n",
              "                       -8.0722e-02,  4.4313e-04, -1.5172e+00],\n",
              "                      [-5.9666e-02,  4.6477e-02, -1.4066e-02, -7.7271e-02, -6.3147e-03,\n",
              "                       -1.1119e-01,  3.0782e-02, -7.9491e-01],\n",
              "                      [-8.0310e-02, -1.0845e-01, -6.6743e-03,  4.2425e-04, -2.7080e-02,\n",
              "                       -4.1895e-02, -1.9653e-02, -9.8755e-01],\n",
              "                      [-1.0126e-01, -1.9774e-01, -7.1519e-02,  1.7291e-01,  1.2950e-02,\n",
              "                        1.4557e-02, -5.0437e-02, -6.0235e-01],\n",
              "                      [ 3.0951e-01, -1.5368e-01,  1.0499e-01,  1.2032e-01,  1.7002e-01,\n",
              "                       -1.6335e-01,  2.2171e-01, -4.5931e-01],\n",
              "                      [-8.6656e-02, -5.0303e-01,  5.0244e-02,  3.0603e-01,  3.9032e-02,\n",
              "                       -2.5225e-01,  1.6992e-02, -2.1472e-01],\n",
              "                      [ 1.2138e-01, -6.3360e-02, -1.6369e-03, -1.0589e-01, -8.6412e-03,\n",
              "                       -1.0383e-01, -1.7798e-03, -4.8876e-01],\n",
              "                      [ 1.7019e-01, -8.0109e-02, -1.4375e-01, -2.3419e-01, -4.3312e-02,\n",
              "                       -6.6273e-01, -3.0366e-02,  5.6802e-01],\n",
              "                      [ 3.3296e-01, -3.6985e-01, -2.1350e-01, -1.6598e-01,  1.6232e-01,\n",
              "                       -2.1162e-01, -3.4772e-01, -2.7251e-01],\n",
              "                      [ 5.5438e-02,  4.6515e-02, -1.4901e-01, -1.8390e-01, -1.3331e-01,\n",
              "                       -4.3900e-01,  2.3395e-02, -1.0816e+00]])),\n",
              "             ('fc1.bias',\n",
              "              tensor([ 0.3995,  0.2217,  0.3101, -0.1489, -0.2622, -0.0060,  0.0893,  0.4891,\n",
              "                      -0.0531,  0.1448])),\n",
              "             ('fc2.weight',\n",
              "              tensor([[ 0.5021,  0.3831,  0.5329,  0.0104, -0.1270,  0.3259, -0.0253, -0.5359,\n",
              "                        0.0748,  0.1080],\n",
              "                      [ 1.1173,  0.4742,  0.6593,  0.3724,  0.0349, -0.3135,  0.5362, -0.4233,\n",
              "                        0.1787,  0.6098],\n",
              "                      [-0.4013, -0.2836,  0.1462, -0.1161,  0.1854, -0.0457,  0.2180, -0.1100,\n",
              "                       -0.2864, -0.3721],\n",
              "                      [ 0.3084,  0.1406,  0.3538,  0.4132,  0.3317,  0.0889,  0.4292, -0.3096,\n",
              "                        0.2242,  0.0938],\n",
              "                      [ 0.9844,  0.5085,  0.4015,  0.2318,  0.1038, -0.2577,  0.3488, -0.4206,\n",
              "                        0.0405,  0.6687],\n",
              "                      [ 0.6275,  0.3035,  0.5342, -0.0369,  0.2376, -0.2506,  0.0394, -0.5004,\n",
              "                        0.2335,  0.6028],\n",
              "                      [ 0.4669, -0.0796,  0.3419,  0.0221,  0.3240, -0.2523,  0.1088, -0.4240,\n",
              "                       -0.0850,  0.4597],\n",
              "                      [ 0.7313,  0.1108,  0.3682,  0.3329,  0.2203, -0.2355,  0.5607, -0.4533,\n",
              "                        0.0101,  0.6171],\n",
              "                      [ 0.5844,  0.0835,  0.4691,  0.1993,  0.1671,  0.2234,  0.3298, -0.4995,\n",
              "                       -0.0638,  0.3558],\n",
              "                      [ 0.4769, -0.0689,  0.3113,  0.4082, -0.0209, -0.2419,  0.2808, -0.3522,\n",
              "                       -0.0704,  0.3097]])),\n",
              "             ('fc2.bias',\n",
              "              tensor([ 0.2487, -0.1867, -0.2171, -0.0195, -0.1611,  0.0134,  0.1833, -0.0388,\n",
              "                       0.1267,  0.1223])),\n",
              "             ('fc3.weight',\n",
              "              tensor([[ 0.4145,  0.5426,  0.2869,  0.2174,  0.6819,  0.4695, -0.0156,  0.0841,\n",
              "                        0.3234,  0.1847],\n",
              "                      [-0.3808, -0.8909,  0.1471, -0.1195, -0.3740, -0.5565, -0.2519, -0.4785,\n",
              "                       -0.0470, -0.2363]])),\n",
              "             ('fc3.bias', tensor([-0.1394, -0.0395]))])"
            ]
          },
          "metadata": {},
          "execution_count": 63
        }
      ]
    },
    {
      "cell_type": "code",
      "source": [
        "torch.save(model.state_dict(),'customer_buy_state_dict')"
      ],
      "metadata": {
        "id": "PKEHEZxniSsO"
      },
      "execution_count": 64,
      "outputs": []
    },
    {
      "cell_type": "code",
      "source": [
        "inference_data = pd.read_csv(\"https://raw.githubusercontent.com/rajimitara/buildModel-and-Mlflow/main/data_inference.csv\")\n",
        "\n",
        "inference_data.head()"
      ],
      "metadata": {
        "colab": {
          "base_uri": "https://localhost:8080/",
          "height": 270
        },
        "id": "kQ6XWNUojWAH",
        "outputId": "0fc92a0b-f443-4b6d-e0fe-d030c433bc97"
      },
      "execution_count": 72,
      "outputs": [
        {
          "output_type": "execute_result",
          "data": {
            "text/html": [
              "\n",
              "  <div id=\"df-7aa80cf7-6f07-432c-8d86-872b6626dacf\">\n",
              "    <div class=\"colab-df-container\">\n",
              "      <div>\n",
              "<style scoped>\n",
              "    .dataframe tbody tr th:only-of-type {\n",
              "        vertical-align: middle;\n",
              "    }\n",
              "\n",
              "    .dataframe tbody tr th {\n",
              "        vertical-align: top;\n",
              "    }\n",
              "\n",
              "    .dataframe thead th {\n",
              "        text-align: right;\n",
              "    }\n",
              "</style>\n",
              "<table border=\"1\" class=\"dataframe\">\n",
              "  <thead>\n",
              "    <tr style=\"text-align: right;\">\n",
              "      <th></th>\n",
              "      <th>id_customer</th>\n",
              "      <th>age_customer</th>\n",
              "      <th>age_credit</th>\n",
              "      <th>mortgage</th>\n",
              "      <th>student_debt</th>\n",
              "      <th>n_customer_service_contacts</th>\n",
              "      <th>duration_customer_service</th>\n",
              "      <th>n_transactions_last_month</th>\n",
              "      <th>volume_last_month</th>\n",
              "    </tr>\n",
              "  </thead>\n",
              "  <tbody>\n",
              "    <tr>\n",
              "      <th>0</th>\n",
              "      <td>7327</td>\n",
              "      <td>98</td>\n",
              "      <td>97</td>\n",
              "      <td>1</td>\n",
              "      <td>0</td>\n",
              "      <td>1</td>\n",
              "      <td>4.832334</td>\n",
              "      <td>7</td>\n",
              "      <td>282.976590</td>\n",
              "    </tr>\n",
              "    <tr>\n",
              "      <th>1</th>\n",
              "      <td>7340</td>\n",
              "      <td>31</td>\n",
              "      <td>5</td>\n",
              "      <td>1</td>\n",
              "      <td>0</td>\n",
              "      <td>3</td>\n",
              "      <td>49.175737</td>\n",
              "      <td>15</td>\n",
              "      <td>270.036026</td>\n",
              "    </tr>\n",
              "    <tr>\n",
              "      <th>2</th>\n",
              "      <td>7355</td>\n",
              "      <td>48</td>\n",
              "      <td>157</td>\n",
              "      <td>0</td>\n",
              "      <td>0</td>\n",
              "      <td>2</td>\n",
              "      <td>47.296689</td>\n",
              "      <td>13</td>\n",
              "      <td>189.150910</td>\n",
              "    </tr>\n",
              "    <tr>\n",
              "      <th>3</th>\n",
              "      <td>7360</td>\n",
              "      <td>77</td>\n",
              "      <td>121</td>\n",
              "      <td>0</td>\n",
              "      <td>1</td>\n",
              "      <td>4</td>\n",
              "      <td>26.549765</td>\n",
              "      <td>9</td>\n",
              "      <td>146.414624</td>\n",
              "    </tr>\n",
              "    <tr>\n",
              "      <th>4</th>\n",
              "      <td>7372</td>\n",
              "      <td>77</td>\n",
              "      <td>219</td>\n",
              "      <td>0</td>\n",
              "      <td>0</td>\n",
              "      <td>2</td>\n",
              "      <td>3.522839</td>\n",
              "      <td>7</td>\n",
              "      <td>111.098443</td>\n",
              "    </tr>\n",
              "  </tbody>\n",
              "</table>\n",
              "</div>\n",
              "      <button class=\"colab-df-convert\" onclick=\"convertToInteractive('df-7aa80cf7-6f07-432c-8d86-872b6626dacf')\"\n",
              "              title=\"Convert this dataframe to an interactive table.\"\n",
              "              style=\"display:none;\">\n",
              "        \n",
              "  <svg xmlns=\"http://www.w3.org/2000/svg\" height=\"24px\"viewBox=\"0 0 24 24\"\n",
              "       width=\"24px\">\n",
              "    <path d=\"M0 0h24v24H0V0z\" fill=\"none\"/>\n",
              "    <path d=\"M18.56 5.44l.94 2.06.94-2.06 2.06-.94-2.06-.94-.94-2.06-.94 2.06-2.06.94zm-11 1L8.5 8.5l.94-2.06 2.06-.94-2.06-.94L8.5 2.5l-.94 2.06-2.06.94zm10 10l.94 2.06.94-2.06 2.06-.94-2.06-.94-.94-2.06-.94 2.06-2.06.94z\"/><path d=\"M17.41 7.96l-1.37-1.37c-.4-.4-.92-.59-1.43-.59-.52 0-1.04.2-1.43.59L10.3 9.45l-7.72 7.72c-.78.78-.78 2.05 0 2.83L4 21.41c.39.39.9.59 1.41.59.51 0 1.02-.2 1.41-.59l7.78-7.78 2.81-2.81c.8-.78.8-2.07 0-2.86zM5.41 20L4 18.59l7.72-7.72 1.47 1.35L5.41 20z\"/>\n",
              "  </svg>\n",
              "      </button>\n",
              "      \n",
              "  <style>\n",
              "    .colab-df-container {\n",
              "      display:flex;\n",
              "      flex-wrap:wrap;\n",
              "      gap: 12px;\n",
              "    }\n",
              "\n",
              "    .colab-df-convert {\n",
              "      background-color: #E8F0FE;\n",
              "      border: none;\n",
              "      border-radius: 50%;\n",
              "      cursor: pointer;\n",
              "      display: none;\n",
              "      fill: #1967D2;\n",
              "      height: 32px;\n",
              "      padding: 0 0 0 0;\n",
              "      width: 32px;\n",
              "    }\n",
              "\n",
              "    .colab-df-convert:hover {\n",
              "      background-color: #E2EBFA;\n",
              "      box-shadow: 0px 1px 2px rgba(60, 64, 67, 0.3), 0px 1px 3px 1px rgba(60, 64, 67, 0.15);\n",
              "      fill: #174EA6;\n",
              "    }\n",
              "\n",
              "    [theme=dark] .colab-df-convert {\n",
              "      background-color: #3B4455;\n",
              "      fill: #D2E3FC;\n",
              "    }\n",
              "\n",
              "    [theme=dark] .colab-df-convert:hover {\n",
              "      background-color: #434B5C;\n",
              "      box-shadow: 0px 1px 3px 1px rgba(0, 0, 0, 0.15);\n",
              "      filter: drop-shadow(0px 1px 2px rgba(0, 0, 0, 0.3));\n",
              "      fill: #FFFFFF;\n",
              "    }\n",
              "  </style>\n",
              "\n",
              "      <script>\n",
              "        const buttonEl =\n",
              "          document.querySelector('#df-7aa80cf7-6f07-432c-8d86-872b6626dacf button.colab-df-convert');\n",
              "        buttonEl.style.display =\n",
              "          google.colab.kernel.accessAllowed ? 'block' : 'none';\n",
              "\n",
              "        async function convertToInteractive(key) {\n",
              "          const element = document.querySelector('#df-7aa80cf7-6f07-432c-8d86-872b6626dacf');\n",
              "          const dataTable =\n",
              "            await google.colab.kernel.invokeFunction('convertToInteractive',\n",
              "                                                     [key], {});\n",
              "          if (!dataTable) return;\n",
              "\n",
              "          const docLinkHtml = 'Like what you see? Visit the ' +\n",
              "            '<a target=\"_blank\" href=https://colab.research.google.com/notebooks/data_table.ipynb>data table notebook</a>'\n",
              "            + ' to learn more about interactive tables.';\n",
              "          element.innerHTML = '';\n",
              "          dataTable['output_type'] = 'display_data';\n",
              "          await google.colab.output.renderOutput(dataTable, element);\n",
              "          const docLink = document.createElement('div');\n",
              "          docLink.innerHTML = docLinkHtml;\n",
              "          element.appendChild(docLink);\n",
              "        }\n",
              "      </script>\n",
              "    </div>\n",
              "  </div>\n",
              "  "
            ],
            "text/plain": [
              "   id_customer  age_customer  ...  n_transactions_last_month  volume_last_month\n",
              "0         7327            98  ...                          7         282.976590\n",
              "1         7340            31  ...                         15         270.036026\n",
              "2         7355            48  ...                         13         189.150910\n",
              "3         7360            77  ...                          9         146.414624\n",
              "4         7372            77  ...                          7         111.098443\n",
              "\n",
              "[5 rows x 9 columns]"
            ]
          },
          "metadata": {},
          "execution_count": 72
        }
      ]
    },
    {
      "cell_type": "code",
      "source": [
        "X_inference = inference_data.iloc[:,1:].values"
      ],
      "metadata": {
        "id": "2g0tse7JjV2k"
      },
      "execution_count": 73,
      "outputs": []
    },
    {
      "cell_type": "code",
      "source": [
        "new_classifier_inference_file = model(torch.from_numpy(sc.transform(np.array(X_inference))).float())\n",
        "new_classifier_inference_file"
      ],
      "metadata": {
        "colab": {
          "base_uri": "https://localhost:8080/"
        },
        "id": "g3sbH1PQjdvp",
        "outputId": "54774421-c75a-40c5-dada-e2a6add5a5e0"
      },
      "execution_count": 75,
      "outputs": [
        {
          "output_type": "execute_result",
          "data": {
            "text/plain": [
              "tensor([[-7.4432e-01, -6.4447e-01],\n",
              "        [-4.6459e-01, -9.8992e-01],\n",
              "        [-5.6939e-01, -8.3441e-01],\n",
              "        ...,\n",
              "        [-3.8598e-03, -5.5591e+00],\n",
              "        [-1.9036e-03, -6.2649e+00],\n",
              "        [-8.7368e-03, -4.7446e+00]], grad_fn=<LogSoftmaxBackward0>)"
            ]
          },
          "metadata": {},
          "execution_count": 75
        }
      ]
    },
    {
      "cell_type": "code",
      "source": [
        "_, predicted_inferences= torch.max(new_classifier_inference_file.data,-1)\n",
        "predicted_inferences"
      ],
      "metadata": {
        "colab": {
          "base_uri": "https://localhost:8080/"
        },
        "id": "IsHwo7paj1kN",
        "outputId": "b07ce60a-2b55-4b7f-d5fe-5bd7787d8c00"
      },
      "execution_count": 79,
      "outputs": [
        {
          "output_type": "execute_result",
          "data": {
            "text/plain": [
              "tensor([1, 0, 0,  ..., 0, 0, 0])"
            ]
          },
          "metadata": {},
          "execution_count": 79
        }
      ]
    },
    {
      "cell_type": "code",
      "source": [
        "print(predicted_inferences)\n",
        "np.savetxt('result.csv', predicted_inferences, delimiter=',')"
      ],
      "metadata": {
        "colab": {
          "base_uri": "https://localhost:8080/"
        },
        "id": "Twp8l64ejck2",
        "outputId": "9fbca70c-96ae-49b1-bd10-faeacaf484f4"
      },
      "execution_count": 80,
      "outputs": [
        {
          "output_type": "stream",
          "name": "stdout",
          "text": [
            "tensor([1, 0, 0,  ..., 0, 0, 0])\n"
          ]
        }
      ]
    },
    {
      "cell_type": "code",
      "source": [
        "!ls"
      ],
      "metadata": {
        "colab": {
          "base_uri": "https://localhost:8080/"
        },
        "id": "m3iLAVVIiVLy",
        "outputId": "680ede64-1758-4a3f-f40c-00a0cb9a73bf"
      },
      "execution_count": 65,
      "outputs": [
        {
          "output_type": "stream",
          "name": "stdout",
          "text": [
            "customer_buy.pt  customer_buy_state_dict  sample_data\n"
          ]
        }
      ]
    },
    {
      "cell_type": "code",
      "source": [
        "new_predictor = Net()"
      ],
      "metadata": {
        "id": "lIWjZ5oridOe"
      },
      "execution_count": 66,
      "outputs": []
    },
    {
      "cell_type": "code",
      "source": [
        "y_cust_pred_1 = restored_model(torch.from_numpy(np.array([[98,97,1,0,1,4.832334122511638,7,282.97659001640096]])).float())\n",
        "y_cust_pred_1"
      ],
      "metadata": {
        "colab": {
          "base_uri": "https://localhost:8080/"
        },
        "id": "2OBQ47Qcijnw",
        "outputId": "bb953617-a0e3-49cc-d9d9-1f50096f28f3"
      },
      "execution_count": 67,
      "outputs": [
        {
          "output_type": "execute_result",
          "data": {
            "text/plain": [
              "tensor([[-0.7443, -0.6445]], grad_fn=<LogSoftmaxBackward0>)"
            ]
          },
          "metadata": {},
          "execution_count": 67
        }
      ]
    },
    {
      "cell_type": "code",
      "source": [
        "!zip -r customer_buy_state_dict.zip customer_buy_state_dict"
      ],
      "metadata": {
        "colab": {
          "base_uri": "https://localhost:8080/"
        },
        "id": "JER5V8Ycim4P",
        "outputId": "9d1d2a4c-4259-46ce-d323-7d77b409133a"
      },
      "execution_count": 68,
      "outputs": [
        {
          "output_type": "stream",
          "name": "stdout",
          "text": [
            "  adding: customer_buy_state_dict (deflated 41%)\n"
          ]
        }
      ]
    },
    {
      "cell_type": "code",
      "source": [
        "!ls"
      ],
      "metadata": {
        "colab": {
          "base_uri": "https://localhost:8080/"
        },
        "id": "u3VgkCkaipsX",
        "outputId": "37b98b49-e3d5-418a-a06e-8c2854de2dab"
      },
      "execution_count": 69,
      "outputs": [
        {
          "output_type": "stream",
          "name": "stdout",
          "text": [
            "customer_buy.pt\t\t customer_buy_state_dict.zip\n",
            "customer_buy_state_dict  sample_data\n"
          ]
        }
      ]
    },
    {
      "cell_type": "code",
      "source": [
        "from google.colab import files\n"
      ],
      "metadata": {
        "id": "QW73JgnMir_y"
      },
      "execution_count": 70,
      "outputs": []
    },
    {
      "cell_type": "code",
      "source": [
        "files.download('customer_buy_state_dict.zip')"
      ],
      "metadata": {
        "colab": {
          "base_uri": "https://localhost:8080/",
          "height": 17
        },
        "id": "zTNY1AdrivgQ",
        "outputId": "2ded9f61-43c7-47b8-f64b-e7119c42bcf3"
      },
      "execution_count": 71,
      "outputs": [
        {
          "output_type": "display_data",
          "data": {
            "application/javascript": [
              "\n",
              "    async function download(id, filename, size) {\n",
              "      if (!google.colab.kernel.accessAllowed) {\n",
              "        return;\n",
              "      }\n",
              "      const div = document.createElement('div');\n",
              "      const label = document.createElement('label');\n",
              "      label.textContent = `Downloading \"${filename}\": `;\n",
              "      div.appendChild(label);\n",
              "      const progress = document.createElement('progress');\n",
              "      progress.max = size;\n",
              "      div.appendChild(progress);\n",
              "      document.body.appendChild(div);\n",
              "\n",
              "      const buffers = [];\n",
              "      let downloaded = 0;\n",
              "\n",
              "      const channel = await google.colab.kernel.comms.open(id);\n",
              "      // Send a message to notify the kernel that we're ready.\n",
              "      channel.send({})\n",
              "\n",
              "      for await (const message of channel.messages) {\n",
              "        // Send a message to notify the kernel that we're ready.\n",
              "        channel.send({})\n",
              "        if (message.buffers) {\n",
              "          for (const buffer of message.buffers) {\n",
              "            buffers.push(buffer);\n",
              "            downloaded += buffer.byteLength;\n",
              "            progress.value = downloaded;\n",
              "          }\n",
              "        }\n",
              "      }\n",
              "      const blob = new Blob(buffers, {type: 'application/binary'});\n",
              "      const a = document.createElement('a');\n",
              "      a.href = window.URL.createObjectURL(blob);\n",
              "      a.download = filename;\n",
              "      div.appendChild(a);\n",
              "      a.click();\n",
              "      div.remove();\n",
              "    }\n",
              "  "
            ],
            "text/plain": [
              "<IPython.core.display.Javascript object>"
            ]
          },
          "metadata": {}
        },
        {
          "output_type": "display_data",
          "data": {
            "application/javascript": [
              "download(\"download_0552481e-c144-43e9-a1e9-f3d8cea9c3b4\", \"customer_buy_state_dict.zip\", 1863)"
            ],
            "text/plain": [
              "<IPython.core.display.Javascript object>"
            ]
          },
          "metadata": {}
        }
      ]
    }
  ]
}